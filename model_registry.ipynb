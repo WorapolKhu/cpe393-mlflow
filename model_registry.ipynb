{
 "cells": [
  {
   "cell_type": "code",
   "execution_count": 2,
   "id": "initial_id",
   "metadata": {
    "ExecuteTime": {
     "end_time": "2025-03-16T15:49:37.372682Z",
     "start_time": "2025-03-16T15:49:36.072369Z"
    },
    "collapsed": true
   },
   "outputs": [],
   "source": [
    "from mlflow.tracking import MlflowClient\n",
    "\n",
    "\n",
    "MLFLOW_TRACKING_URI = \"sqlite:///mlflow.db\""
   ]
  },
  {
   "cell_type": "code",
   "execution_count": 3,
   "id": "f30d9f40bd30bb2b",
   "metadata": {
    "ExecuteTime": {
     "end_time": "2025-03-16T15:49:53.248289Z",
     "start_time": "2025-03-16T15:49:52.886555Z"
    },
    "collapsed": false
   },
   "outputs": [
    {
     "data": {
      "text/plain": [
       "[<Experiment: artifact_location='file:c:/Users/worapolk/Documents/GitHub/cpe393-mlflow/mlruns/2', creation_time=1743062395662, experiment_id='2', last_update_time=1743062395662, lifecycle_stage='active', name='my-new-experiment', tags={}>,\n",
       " <Experiment: artifact_location='file:c:/Users/worapolk/Documents/GitHub/cpe393-mlflow/mlruns/1', creation_time=1743057521326, experiment_id='1', last_update_time=1743057521326, lifecycle_stage='active', name='mlops_nyc_taxi', tags={}>,\n",
       " <Experiment: artifact_location='mlflow-artifacts:/0', creation_time=1743057474912, experiment_id='0', last_update_time=1743057474912, lifecycle_stage='active', name='Default', tags={}>]"
      ]
     },
     "execution_count": 3,
     "metadata": {},
     "output_type": "execute_result"
    }
   ],
   "source": [
    "client = MlflowClient(tracking_uri=MLFLOW_TRACKING_URI)\n",
    "\n",
    "client.search_experiments()"
   ]
  },
  {
   "cell_type": "code",
   "execution_count": 5,
   "id": "1e41bfef1da117d2",
   "metadata": {
    "ExecuteTime": {
     "end_time": "2025-03-16T15:50:11.714688Z",
     "start_time": "2025-03-16T15:50:11.698987Z"
    },
    "collapsed": false
   },
   "outputs": [
    {
     "data": {
      "text/plain": [
       "'2'"
      ]
     },
     "execution_count": 5,
     "metadata": {},
     "output_type": "execute_result"
    }
   ],
   "source": [
    "client.create_experiment(name=\"my-new-experiment\")"
   ]
  },
  {
   "cell_type": "code",
   "execution_count": 4,
   "id": "e7965358afe3200b",
   "metadata": {
    "ExecuteTime": {
     "end_time": "2025-03-16T15:50:54.398721Z",
     "start_time": "2025-03-16T15:50:54.382003Z"
    },
    "collapsed": false
   },
   "outputs": [],
   "source": [
    "from mlflow.entities import ViewType\n",
    "\n",
    "runs = client.search_runs(\n",
    "    experiment_ids='1',\n",
    "    filter_string=\"metrics.rmse < 100\",\n",
    "    run_view_type=ViewType.ACTIVE_ONLY,\n",
    "    max_results=5,\n",
    "    order_by=[\"metrics.rmse ASC\"]\n",
    ")"
   ]
  },
  {
   "cell_type": "code",
   "execution_count": 5,
   "id": "52681452eed1388",
   "metadata": {
    "ExecuteTime": {
     "end_time": "2025-03-16T15:50:55.055949Z",
     "start_time": "2025-03-16T15:50:55.053464Z"
    },
    "collapsed": false
   },
   "outputs": [
    {
     "name": "stdout",
     "output_type": "stream",
     "text": [
      "run id: 086a69ebde924f81aaa78ab9d0804316, rmse: 25.5033\n",
      "run id: 3cf8a4556c004aaeb06cd9a4f0ac5cc1, rmse: 25.7825\n",
      "run id: 65b870b42a9044d498400e935d133658, rmse: 27.6039\n",
      "run id: 6a77a9579c084146bbdea56d6ced30e6, rmse: 30.5822\n",
      "run id: a4e13474a9d94b44b126471db469a8ae, rmse: 30.5822\n"
     ]
    }
   ],
   "source": [
    "for run in runs:\n",
    "    print(f\"run id: {run.info.run_id}, rmse: {run.data.metrics['rmse']:.4f}\")"
   ]
  },
  {
   "cell_type": "code",
   "execution_count": 6,
   "id": "1364b30512c67b1b",
   "metadata": {
    "ExecuteTime": {
     "end_time": "2025-03-16T15:51:27.949595Z",
     "start_time": "2025-03-16T15:51:27.945794Z"
    },
    "collapsed": false
   },
   "outputs": [],
   "source": [
    "import mlflow\n",
    "\n",
    "mlflow.set_tracking_uri(MLFLOW_TRACKING_URI)"
   ]
  },
  {
   "cell_type": "code",
   "execution_count": 7,
   "id": "181d90df1e449da3",
   "metadata": {
    "collapsed": false
   },
   "outputs": [
    {
     "name": "stderr",
     "output_type": "stream",
     "text": [
      "Registered model 'nyc-taxi-regressor' already exists. Creating a new version of this model...\n",
      "Created version '4' of model 'nyc-taxi-regressor'.\n"
     ]
    },
    {
     "data": {
      "text/plain": [
       "<ModelVersion: aliases=[], creation_timestamp=1743068080227, current_stage='None', description=None, last_updated_timestamp=1743068080227, name='nyc-taxi-regressor', run_id='1d1487ac7e5743a0a7474893fddfad08', run_link=None, source='file:c:/Users/worapolk/Documents/GitHub/cpe393-mlflow/mlruns/1/1d1487ac7e5743a0a7474893fddfad08/artifacts/model', status='READY', status_message=None, tags={}, user_id=None, version=4>"
      ]
     },
     "execution_count": 7,
     "metadata": {},
     "output_type": "execute_result"
    }
   ],
   "source": [
    "run_id = \"1d1487ac7e5743a0a7474893fddfad08\"  #insert run id\n",
    "model_uri = f\"runs:/{run_id}/model\"\n",
    "mlflow.register_model(model_uri=model_uri, name=\"nyc-taxi-regressor\")"
   ]
  },
  {
   "cell_type": "code",
   "execution_count": 8,
   "id": "7c8686191b00135",
   "metadata": {
    "collapsed": false
   },
   "outputs": [
    {
     "name": "stdout",
     "output_type": "stream",
     "text": [
      "version: 1, stage: Staging\n",
      "version: 3, stage: Production\n",
      "version: 4, stage: None\n"
     ]
    },
    {
     "name": "stderr",
     "output_type": "stream",
     "text": [
      "C:\\Users\\worapolk\\AppData\\Local\\Temp\\ipykernel_13748\\1279244624.py:3: FutureWarning: ``mlflow.tracking.client.MlflowClient.get_latest_versions`` is deprecated since 2.9.0. Model registry stages will be removed in a future major release. To learn more about the deprecation of model registry stages, see our migration guide here: https://mlflow.org/docs/latest/model-registry.html#migrating-from-stages\n",
      "  latest_versions = client.get_latest_versions(name=model_name)\n"
     ]
    }
   ],
   "source": [
    "#check model version and stages\n",
    "model_name = \"nyc-taxi-regressor\"\n",
    "latest_versions = client.get_latest_versions(name=model_name)\n",
    "\n",
    "for version in latest_versions:\n",
    "    print(f\"version: {version.version}, stage: {version.current_stage}\")"
   ]
  },
  {
   "cell_type": "code",
   "execution_count": 10,
   "id": "cfb47442",
   "metadata": {},
   "outputs": [
    {
     "name": "stderr",
     "output_type": "stream",
     "text": [
      "C:\\Users\\worapolk\\AppData\\Local\\Temp\\ipykernel_13748\\519002039.py:1: FutureWarning: ``mlflow.tracking.client.MlflowClient.transition_model_version_stage`` is deprecated since 2.9.0. Model registry stages will be removed in a future major release. To learn more about the deprecation of model registry stages, see our migration guide here: https://mlflow.org/docs/latest/model-registry.html#migrating-from-stages\n",
      "  client.transition_model_version_stage(name=\"nyc-taxi-regressor\", version=1, stage=\"None\")\n"
     ]
    },
    {
     "data": {
      "text/plain": [
       "<ModelVersion: aliases=[], creation_timestamp=1743062433722, current_stage='None', description=None, last_updated_timestamp=1743068111070, name='nyc-taxi-regressor', run_id='1d1487ac7e5743a0a7474893fddfad08', run_link=None, source='file:c:/Users/worapolk/Documents/GitHub/cpe393-mlflow/mlruns/1/1d1487ac7e5743a0a7474893fddfad08/artifacts/model', status='READY', status_message=None, tags={}, user_id=None, version=1>"
      ]
     },
     "execution_count": 10,
     "metadata": {},
     "output_type": "execute_result"
    }
   ],
   "source": [
    "client.transition_model_version_stage(name=\"nyc-taxi-regressor\", version=1, stage=\"None\")"
   ]
  },
  {
   "cell_type": "code",
   "execution_count": 16,
   "id": "767c76e0",
   "metadata": {},
   "outputs": [
    {
     "name": "stderr",
     "output_type": "stream",
     "text": [
      "C:\\Users\\worapolk\\AppData\\Local\\Temp\\ipykernel_13748\\1419651121.py:1: FutureWarning: ``mlflow.tracking.client.MlflowClient.transition_model_version_stage`` is deprecated since 2.9.0. Model registry stages will be removed in a future major release. To learn more about the deprecation of model registry stages, see our migration guide here: https://mlflow.org/docs/latest/model-registry.html#migrating-from-stages\n",
      "  client.transition_model_version_stage(name=\"nyc-taxi-regressor\", version=3, stage=\"None\")\n"
     ]
    },
    {
     "data": {
      "text/plain": [
       "<ModelVersion: aliases=[], creation_timestamp=1743065497003, current_stage='None', description=None, last_updated_timestamp=1743068169902, name='nyc-taxi-regressor', run_id='49eecbd996ae4643bf31a0d641aaaf6c', run_link=None, source='file:c:/Users/worapolk/Documents/GitHub/cpe393-mlflow/mlruns/1/49eecbd996ae4643bf31a0d641aaaf6c/artifacts/model', status='READY', status_message=None, tags={}, user_id=None, version=3>"
      ]
     },
     "execution_count": 16,
     "metadata": {},
     "output_type": "execute_result"
    }
   ],
   "source": [
    "client.transition_model_version_stage(name=\"nyc-taxi-regressor\", version=3, stage=\"None\")"
   ]
  },
  {
   "cell_type": "markdown",
   "id": "281112ed",
   "metadata": {},
   "source": [
    "# Set version 4 as Staging"
   ]
  },
  {
   "cell_type": "code",
   "execution_count": 13,
   "id": "7d00b45ade1c81c8",
   "metadata": {
    "collapsed": false
   },
   "outputs": [
    {
     "name": "stderr",
     "output_type": "stream",
     "text": [
      "C:\\Users\\worapolk\\AppData\\Local\\Temp\\ipykernel_13748\\2914369667.py:3: FutureWarning: ``mlflow.tracking.client.MlflowClient.transition_model_version_stage`` is deprecated since 2.9.0. Model registry stages will be removed in a future major release. To learn more about the deprecation of model registry stages, see our migration guide here: https://mlflow.org/docs/latest/model-registry.html#migrating-from-stages\n",
      "  client.transition_model_version_stage(name=\"nyc-taxi-regressor\", version=4, stage=\"Staging\")\n"
     ]
    },
    {
     "data": {
      "text/plain": [
       "<ModelVersion: aliases=[], creation_timestamp=1743068080227, current_stage='Staging', description=None, last_updated_timestamp=1743068140195, name='nyc-taxi-regressor', run_id='1d1487ac7e5743a0a7474893fddfad08', run_link=None, source='file:c:/Users/worapolk/Documents/GitHub/cpe393-mlflow/mlruns/1/1d1487ac7e5743a0a7474893fddfad08/artifacts/model', status='READY', status_message=None, tags={}, user_id=None, version=4>"
      ]
     },
     "execution_count": 13,
     "metadata": {},
     "output_type": "execute_result"
    }
   ],
   "source": [
    "model_version = 1\n",
    "new_stage = \"Staging\"\n",
    "client.transition_model_version_stage(name=\"nyc-taxi-regressor\", version=4, stage=\"Staging\")"
   ]
  },
  {
   "cell_type": "markdown",
   "id": "67602670",
   "metadata": {},
   "source": [
    "# Set version 5 as Production"
   ]
  },
  {
   "cell_type": "code",
   "execution_count": 14,
   "id": "3e58077d",
   "metadata": {},
   "outputs": [
    {
     "name": "stderr",
     "output_type": "stream",
     "text": [
      "Registered model 'nyc-taxi-regressor' already exists. Creating a new version of this model...\n",
      "Created version '5' of model 'nyc-taxi-regressor'.\n"
     ]
    },
    {
     "data": {
      "text/plain": [
       "<ModelVersion: aliases=[], creation_timestamp=1743068149420, current_stage='None', description=None, last_updated_timestamp=1743068149420, name='nyc-taxi-regressor', run_id='6a77a9579c084146bbdea56d6ced30e6', run_link=None, source='file:c:/Users/worapolk/Documents/GitHub/cpe393-mlflow/mlruns/1/6a77a9579c084146bbdea56d6ced30e6/artifacts/model', status='READY', status_message=None, tags={}, user_id=None, version=5>"
      ]
     },
     "execution_count": 14,
     "metadata": {},
     "output_type": "execute_result"
    }
   ],
   "source": [
    "run_id = \"6a77a9579c084146bbdea56d6ced30e6\"  #insert run id\n",
    "model_uri = f\"runs:/{run_id}/model\"\n",
    "mlflow.register_model(model_uri=model_uri, name=\"nyc-taxi-regressor\")"
   ]
  },
  {
   "cell_type": "code",
   "execution_count": 17,
   "id": "2b19dd0c",
   "metadata": {},
   "outputs": [
    {
     "name": "stdout",
     "output_type": "stream",
     "text": [
      "version: 5, stage: None\n",
      "version: 4, stage: Staging\n"
     ]
    },
    {
     "name": "stderr",
     "output_type": "stream",
     "text": [
      "C:\\Users\\worapolk\\AppData\\Local\\Temp\\ipykernel_13748\\1279244624.py:3: FutureWarning: ``mlflow.tracking.client.MlflowClient.get_latest_versions`` is deprecated since 2.9.0. Model registry stages will be removed in a future major release. To learn more about the deprecation of model registry stages, see our migration guide here: https://mlflow.org/docs/latest/model-registry.html#migrating-from-stages\n",
      "  latest_versions = client.get_latest_versions(name=model_name)\n"
     ]
    }
   ],
   "source": [
    "#check model version and stages\n",
    "model_name = \"nyc-taxi-regressor\"\n",
    "latest_versions = client.get_latest_versions(name=model_name)\n",
    "\n",
    "for version in latest_versions:\n",
    "    print(f\"version: {version.version}, stage: {version.current_stage}\")"
   ]
  },
  {
   "cell_type": "code",
   "execution_count": 18,
   "id": "6013d805",
   "metadata": {},
   "outputs": [
    {
     "name": "stderr",
     "output_type": "stream",
     "text": [
      "C:\\Users\\worapolk\\AppData\\Local\\Temp\\ipykernel_13748\\780680667.py:1: FutureWarning: ``mlflow.tracking.client.MlflowClient.transition_model_version_stage`` is deprecated since 2.9.0. Model registry stages will be removed in a future major release. To learn more about the deprecation of model registry stages, see our migration guide here: https://mlflow.org/docs/latest/model-registry.html#migrating-from-stages\n",
      "  client.transition_model_version_stage(name=\"nyc-taxi-regressor\", version=5, stage=\"Production\")\n"
     ]
    },
    {
     "data": {
      "text/plain": [
       "<ModelVersion: aliases=[], creation_timestamp=1743068149420, current_stage='Production', description=None, last_updated_timestamp=1743068184115, name='nyc-taxi-regressor', run_id='6a77a9579c084146bbdea56d6ced30e6', run_link=None, source='file:c:/Users/worapolk/Documents/GitHub/cpe393-mlflow/mlruns/1/6a77a9579c084146bbdea56d6ced30e6/artifacts/model', status='READY', status_message=None, tags={}, user_id=None, version=5>"
      ]
     },
     "execution_count": 18,
     "metadata": {},
     "output_type": "execute_result"
    }
   ],
   "source": [
    "client.transition_model_version_stage(name=\"nyc-taxi-regressor\", version=5, stage=\"Production\")"
   ]
  },
  {
   "cell_type": "markdown",
   "id": "973a18941abe32fa",
   "metadata": {
    "collapsed": false
   },
   "source": [
    "Comparing versions and selecting the new \"Production\" model\n",
    "In the last section, we will retrieve models registered in the model registry and compare their performance on an unseen test set. The idea is to simulate the scenario in which a deployment engineer has to interact with the model registry to decide whether to update the model version that is in production or not.\n",
    "\n",
    "These are the steps:\n",
    "\n",
    "Load the test dataset, which corresponds to the NYC Green Taxi data from the month of March 2021.\n",
    "Download the DictVectorizer that was fitted using the training data and saved to MLflow as an artifact, and load it with pickle.\n",
    "Preprocess the test set using the DictVectorizer so we can properly feed the regressors.\n",
    "Make predictions on the test set using the model versions that are currently in the \"Staging\" and \"Production\" stages, and compare their performance.\n",
    "Based on the results, update the \"Production\" model version accordingly.\n"
   ]
  },
  {
   "cell_type": "code",
   "execution_count": 19,
   "id": "b7290818",
   "metadata": {},
   "outputs": [],
   "source": [
    "from sklearn.metrics import mean_squared_error\n",
    "import pandas as pd\n",
    "\n",
    "\n",
    "def read_dataframe(filename):\n",
    "    df = pd.read_csv(filename)\n",
    "\n",
    "    df.lpep_dropoff_datetime = pd.to_datetime(df.lpep_dropoff_datetime)\n",
    "    df.lpep_pickup_datetime = pd.to_datetime(df.lpep_pickup_datetime)\n",
    "\n",
    "    df['duration'] = df.lpep_dropoff_datetime - df.lpep_pickup_datetime\n",
    "    df.duration = df.duration.apply(lambda td: td.total_seconds() / 60)\n",
    "\n",
    "    df = df[(df.duration >= 1) & (df.duration <= 60)]\n",
    "\n",
    "    categorical = ['PULocationID', 'DOLocationID']\n",
    "    df[categorical] = df[categorical].astype(str)\n",
    "    \n",
    "    return df\n",
    "\n",
    "\n",
    "def preprocess(df, dv):\n",
    "    df['PU_DO'] = df['PULocationID'] + '_' + df['DOLocationID']\n",
    "    categorical = ['PU_DO']\n",
    "    numerical = ['trip_distance']\n",
    "    train_dicts = df[categorical + numerical].to_dict(orient='records')\n",
    "    return dv.transform(train_dicts)\n",
    "\n",
    "\n",
    "def test_model(name, stage, X_test, y_test):\n",
    "    model = mlflow.pyfunc.load_model(f\"models:/{name}/{stage}\")\n",
    "    y_pred = model.predict(X_test)\n",
    "    return {\"rmse\": mean_squared_error(y_test, y_pred)}"
   ]
  },
  {
   "cell_type": "code",
   "execution_count": 20,
   "id": "93365070",
   "metadata": {},
   "outputs": [
    {
     "name": "stderr",
     "output_type": "stream",
     "text": [
      "C:\\Users\\worapolk\\AppData\\Local\\Temp\\ipykernel_13748\\3118448288.py:6: DtypeWarning: Columns (3) have mixed types. Specify dtype option on import or set low_memory=False.\n",
      "  df = pd.read_csv(filename)\n"
     ]
    }
   ],
   "source": [
    "df = read_dataframe(\"green_tripdata_2021-03.csv\")"
   ]
  },
  {
   "cell_type": "code",
   "execution_count": null,
   "id": "b6bf4f72",
   "metadata": {},
   "outputs": [],
   "source": [
    "client.download_artifacts(run_id=run_id, path='preprocessor', dst_path='.')"
   ]
  },
  {
   "cell_type": "code",
   "execution_count": 23,
   "id": "b3e4f886",
   "metadata": {},
   "outputs": [],
   "source": [
    "import pickle\n",
    "\n",
    "with open(\"preprocessor/preprocessor.b\", \"rb\") as f_in:\n",
    "    dv = pickle.load(f_in)"
   ]
  },
  {
   "cell_type": "code",
   "execution_count": 24,
   "id": "d4f5431d",
   "metadata": {},
   "outputs": [],
   "source": [
    "X_test = preprocess(df, dv)"
   ]
  },
  {
   "cell_type": "code",
   "execution_count": 25,
   "id": "393fb3f7",
   "metadata": {},
   "outputs": [],
   "source": [
    "target = \"duration\"\n",
    "y_test = df[target].values"
   ]
  },
  {
   "cell_type": "markdown",
   "id": "8feab016",
   "metadata": {},
   "source": [
    "# Test Production"
   ]
  },
  {
   "cell_type": "code",
   "execution_count": null,
   "id": "dd505c87",
   "metadata": {},
   "outputs": [
    {
     "name": "stdout",
     "output_type": "stream",
     "text": [
      "CPU times: total: 3.62 s\n",
      "Wall time: 4 s\n"
     ]
    },
    {
     "data": {
      "text/plain": [
       "{'rmse': 99.04560645890838}"
      ]
     },
     "execution_count": 26,
     "metadata": {},
     "output_type": "execute_result"
    }
   ],
   "source": [
    "model_name = \"nyc-taxi-regressor\"\n",
    "\n",
    "%time test_model(name=model_name, stage=\"Production\", X_test=X_test, y_test=y_test)``"
   ]
  },
  {
   "cell_type": "markdown",
   "id": "66a0b8a1",
   "metadata": {},
   "source": [
    "# Test Staging"
   ]
  },
  {
   "cell_type": "code",
   "execution_count": 27,
   "id": "6c9c576e",
   "metadata": {},
   "outputs": [
    {
     "name": "stdout",
     "output_type": "stream",
     "text": [
      "CPU times: total: 3.31 s\n",
      "Wall time: 1.82 s\n"
     ]
    },
    {
     "data": {
      "text/plain": [
       "{'rmse': 67.04442913158483}"
      ]
     },
     "execution_count": 27,
     "metadata": {},
     "output_type": "execute_result"
    }
   ],
   "source": [
    "%time test_model(name=model_name, stage=\"Staging\", X_test=X_test, y_test=y_test)"
   ]
  },
  {
   "cell_type": "markdown",
   "id": "8f082709",
   "metadata": {},
   "source": [
    "## result: rmse(staging) < rmse(production)"
   ]
  },
  {
   "cell_type": "markdown",
   "id": "4e18a4b8",
   "metadata": {},
   "source": [
    "# Transition model staging to production"
   ]
  },
  {
   "cell_type": "code",
   "execution_count": 28,
   "id": "700a3a2d",
   "metadata": {},
   "outputs": [
    {
     "name": "stderr",
     "output_type": "stream",
     "text": [
      "C:\\Users\\worapolk\\AppData\\Local\\Temp\\ipykernel_13748\\3610659809.py:1: FutureWarning: ``mlflow.tracking.client.MlflowClient.transition_model_version_stage`` is deprecated since 2.9.0. Model registry stages will be removed in a future major release. To learn more about the deprecation of model registry stages, see our migration guide here: https://mlflow.org/docs/latest/model-registry.html#migrating-from-stages\n",
      "  client.transition_model_version_stage(\n"
     ]
    },
    {
     "data": {
      "text/plain": [
       "<ModelVersion: aliases=[], creation_timestamp=1743068080227, current_stage='Production', description=None, last_updated_timestamp=1743068311123, name='nyc-taxi-regressor', run_id='1d1487ac7e5743a0a7474893fddfad08', run_link=None, source='file:c:/Users/worapolk/Documents/GitHub/cpe393-mlflow/mlruns/1/1d1487ac7e5743a0a7474893fddfad08/artifacts/model', status='READY', status_message=None, tags={}, user_id=None, version=4>"
      ]
     },
     "execution_count": 28,
     "metadata": {},
     "output_type": "execute_result"
    }
   ],
   "source": [
    "client.transition_model_version_stage(\n",
    "    name=model_name,\n",
    "    version=4,\n",
    "    stage=\"Production\",\n",
    "    archive_existing_versions=True\n",
    ")"
   ]
  }
 ],
 "metadata": {
  "kernelspec": {
   "display_name": "Python 3",
   "language": "python",
   "name": "python3"
  },
  "language_info": {
   "codemirror_mode": {
    "name": "ipython",
    "version": 3
   },
   "file_extension": ".py",
   "mimetype": "text/x-python",
   "name": "python",
   "nbconvert_exporter": "python",
   "pygments_lexer": "ipython3",
   "version": "3.12.9"
  }
 },
 "nbformat": 4,
 "nbformat_minor": 5
}
